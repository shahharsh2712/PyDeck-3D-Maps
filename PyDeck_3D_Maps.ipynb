{
 "cells": [
  {
   "cell_type": "code",
   "execution_count": 1,
   "metadata": {
    "id": "6VVfeVgzNQrl",
    "scrolled": true
   },
   "outputs": [],
   "source": [
    "import numpy as np\n",
    "import pandas as pd\n",
    "import xarray as xr\n",
    "import geopandas as gpd\n",
    "import random\n",
    "import math\n",
    "\n",
    "import matplotlib.pyplot as plt\n",
    "from shapely import Point\n",
    "\n",
    "import cartopy\n",
    "import cartopy.crs as ccrs\n",
    "import cartopy.feature as cfeature\n",
    "\n",
    "import warnings\n",
    "\n",
    "warnings.filterwarnings('ignore')"
   ]
  },
  {
   "cell_type": "markdown",
   "metadata": {
    "id": "swUZlDECqxND"
   },
   "source": [
    "**Data**: https://www.kaggle.com/datasets/sumaiaparveenshupti/los-angeles-crime-data-20102020"
   ]
  },
  {
   "cell_type": "code",
   "execution_count": null,
   "metadata": {
    "colab": {
     "base_uri": "https://localhost:8080/",
     "height": 423
    },
    "id": "3AumLYQsNktj",
    "outputId": "83217fad-a15a-4518-840b-2f3281061fe3"
   },
   "outputs": [],
   "source": [
    "recent = pd.read_csv(r\"C:\\Users\\Harsh Shah\\Desktop\\Crime_Data_from_2010_to_2019.csv\")[['LAT', 'LON']]\n",
    "old = pd.read_csv(r\"C:\\Users\\Harsh Shah\\Desktop\\Crime_Data_from_2020_to_Present.csv\")[['LAT', 'LON']]\n",
    "df = pd.concat([old, recent])\n",
    "df = df[(df.LON!=0) & (df.LAT!=0)]\n",
    "df"
   ]
  },
  {
   "cell_type": "code",
   "execution_count": null,
   "metadata": {
    "colab": {
     "base_uri": "https://localhost:8080/",
     "height": 448
    },
    "id": "CERvp51fbK5P",
    "outputId": "8adc2062-3072-4188-e5f7-bc38a39bb413"
   },
   "outputs": [],
   "source": [
    "geometry = []\n",
    "for lat, lon in zip(df.LAT, df.LON):\n",
    "  geometry.append(Point(lon, lat))\n",
    "\n",
    "gdf = gpd.GeoDataFrame(df, geometry = geometry)\n",
    "gdf.plot()"
   ]
  },
  {
   "cell_type": "code",
   "execution_count": null,
   "metadata": {
    "id": "aEXAa8aTN5Du"
   },
   "outputs": [],
   "source": [
    "def coords(x,y, base=0.01):\n",
    "\tx, y = round(base * math.ceil(abs(x)/base),2), round(base * math.ceil(y/base),2)\n",
    "\treturn (y,x)\n",
    "\n",
    "def NN(data, LAT, LON):\n",
    "  array = np.zeros((LAT.shape[0], LON.shape[0]),dtype=int)\n",
    "  onGrid = data.apply(lambda row: coords(row.LAT, row.LON, 0.01), axis = 1).value_counts()\n",
    "  for coor in onGrid.index:\n",
    "    lon_idx, lat_idx = np.where(LON==coor[0]), np.where(LAT==coor[1])\n",
    "    array[lat_idx,lon_idx] = int(onGrid[coor])\n",
    "  return array"
   ]
  },
  {
   "cell_type": "code",
   "execution_count": null,
   "metadata": {
    "colab": {
     "base_uri": "https://localhost:8080/",
     "height": 249
    },
    "id": "kttHUelwO_Ut",
    "outputId": "8ea15e76-fe49-4a75-f617-81bdd12a6eee"
   },
   "outputs": [],
   "source": [
    "LAT, LON = np.arange(round(df.LAT.min()), round(df.LAT.max()), 0.01).astype(np.float32), np.arange(round(df.LON.min()), round(df.LON.max()), 0.01).astype(np.float32)\n",
    "crimes = NN(df, LAT, LON)\n",
    "ds = xr.Dataset(\n",
    "    {'Crimes': (['lat', 'lon'], crimes)},\n",
    "    coords={'lat': LAT, 'lon': LON})\n",
    "ds"
   ]
  },
  {
   "cell_type": "code",
   "execution_count": null,
   "metadata": {
    "colab": {
     "base_uri": "https://localhost:8080/",
     "height": 771
    },
    "id": "s6lwJhD6Pec2",
    "outputId": "9c53b687-d6b8-4cf8-f1b8-df7c250afee6"
   },
   "outputs": [],
   "source": [
    "fig, ax = plt.subplots(subplot_kw=dict(projection=ccrs.PlateCarree()), figsize=(16, 9))\n",
    "\n",
    "ds.Crimes.plot(ax=ax, cmap='Reds')\n",
    "ax.set_extent([-118.9, -118.1, 33.6, 34.5 ], crs=ccrs.PlateCarree())\n",
    "ax.gridlines(draw_labels=True,linewidth=2, color='black', alpha=0.5, linestyle='--')\n",
    "ax.add_feature(cfeature.BORDERS, edgecolor='black', linewidth=1)\n",
    "\n",
    "ax.add_feature(cfeature.COASTLINE, edgecolor='black', linewidth=1)\n",
    "ax.add_feature(cartopy.feature.RIVERS, edgecolor='blue', linewidth=0.5)\n",
    "states_provinces = cfeature.NaturalEarthFeature(\n",
    "            category='cultural',  name='admin_1_states_provinces',\n",
    "            scale='10m', facecolor='none')\n",
    "\n",
    "plt.show()"
   ]
  },
  {
   "cell_type": "markdown",
   "metadata": {
    "id": "5I1o9pOmz1rP"
   },
   "source": [
    "# PyDeck"
   ]
  },
  {
   "cell_type": "code",
   "execution_count": null,
   "metadata": {
    "colab": {
     "base_uri": "https://localhost:8080/"
    },
    "id": "JUyuQFKIz5rg",
    "outputId": "8f92bbfa-b97f-4597-dc24-990b62493016"
   },
   "outputs": [],
   "source": [
    "!pip install pydeck"
   ]
  },
  {
   "cell_type": "code",
   "execution_count": null,
   "metadata": {
    "id": "qL6ucTo3z29t"
   },
   "outputs": [],
   "source": [
    "import pydeck as pdk"
   ]
  },
  {
   "cell_type": "markdown",
   "metadata": {
    "id": "rsFrqLIL0O9M"
   },
   "source": [
    "https://deck.gl/docs/api-reference/layers"
   ]
  },
  {
   "cell_type": "markdown",
   "metadata": {
    "id": "U3fBwVi5UqHt"
   },
   "source": [
    "# 1. Hexagons"
   ]
  },
  {
   "cell_type": "code",
   "execution_count": null,
   "metadata": {
    "colab": {
     "base_uri": "https://localhost:8080/",
     "height": 17
    },
    "id": "zjw2co9g0CV8",
    "outputId": "ee5ebd3d-e98b-48c7-f1ac-d4b01331456b"
   },
   "outputs": [],
   "source": [
    "layer = pdk.Layer(\n",
    "    'HexagonLayer',\n",
    "    df,\n",
    "    get_position=['LON', 'LAT'],\n",
    "    radius=500, #bin radius\n",
    "    auto_highlight=True,\n",
    "    elevation_scale=50, #scale factor for bins (the greater - the higher)\n",
    "    elevation_range=[0, 3000],\n",
    "    pickable=True,\n",
    "    extruded=True,#cell elevation\n",
    "    )\n",
    "\n",
    "view_state = pdk.ViewState(\n",
    "    longitude=-118.3,\n",
    "    latitude=34.4,\n",
    "    zoom=8,\n",
    "    min_zoom=6,\n",
    "    max_zoom=15,\n",
    "    bearing=-20,#left/right angle\n",
    "    pitch=20, #up/down angle\n",
    "    )\n",
    "\n",
    "r = pdk.Deck(layers=[layer], initial_view_state=view_state)\n",
    "r.to_html('hex.html')"
   ]
  },
  {
   "cell_type": "markdown",
   "metadata": {
    "id": "ZCm1BVv-U05P"
   },
   "source": [
    "# 2. Columns"
   ]
  },
  {
   "cell_type": "code",
   "execution_count": null,
   "metadata": {
    "colab": {
     "base_uri": "https://localhost:8080/",
     "height": 500
    },
    "id": "DiS5qhUTSVgI",
    "outputId": "9aaf28f5-e624-4320-d132-d6536eee0622"
   },
   "outputs": [],
   "source": [
    "layer = pdk.Layer(\n",
    "    'ColumnLayer',\n",
    "    ds.to_dataframe().reset_index(),\n",
    "    get_position=['lon', 'lat'],\n",
    "    get_elevation='Crimes',\n",
    "    elevation_scale=10,\n",
    "    radius=200,\n",
    "    get_fill_color=['Crimes', 220],\n",
    "    pickable=True,\n",
    "    extruded=True,\n",
    "    )\n",
    "\n",
    "view_state = pdk.ViewState(\n",
    "    longitude=-118.3,\n",
    "    latitude=34.4,\n",
    "    zoom=8,\n",
    "    min_zoom=6,\n",
    "    max_zoom=15,\n",
    "    bearing=-20,#left/right angle\n",
    "    pitch=20, #up/down angle\n",
    "    )\n",
    "\n",
    "# Render\n",
    "r = pdk.Deck(layers=[layer], initial_view_state=view_state)\n",
    "r.to_html('column.html')"
   ]
  },
  {
   "cell_type": "markdown",
   "metadata": {
    "id": "lPHUuo0IaP0-"
   },
   "source": [
    "# 3. Scatter plots"
   ]
  },
  {
   "cell_type": "code",
   "execution_count": null,
   "metadata": {
    "colab": {
     "base_uri": "https://localhost:8080/",
     "height": 500
    },
    "id": "2SfMqOYgU7wV",
    "outputId": "628a0d5f-297d-4b70-a3ca-21bb28760481"
   },
   "outputs": [],
   "source": [
    "layer = pdk.Layer(\n",
    "    'ColumnLayer',\n",
    "    df[:15000],\n",
    "    get_position=['LON', 'LAT'],\n",
    "    auto_highlight=True,\n",
    "    get_radius=200,          # Radius is given in meters\n",
    "    get_fill_color=[180, 0, 200, 140],  # Set an RGBA value for fill\n",
    "    pickable=True)\n",
    "\n",
    "view_state = pdk.ViewState(\n",
    "    longitude=-118.3,\n",
    "    latitude=34.4,\n",
    "    zoom=8,\n",
    "    min_zoom=6,\n",
    "    max_zoom=15,\n",
    "    bearing=-20,#left/right angle\n",
    "    pitch=20, #up/down angle\n",
    "    )\n",
    "\n",
    "r = pdk.Deck(layers=[layer], initial_view_state=view_state)\n",
    "r#.to_html('scatter.html')"
   ]
  },
  {
   "cell_type": "markdown",
   "metadata": {
    "id": "4TVj9YHIVDEi"
   },
   "source": [
    "# 4. Map style"
   ]
  },
  {
   "cell_type": "code",
   "execution_count": null,
   "metadata": {
    "colab": {
     "base_uri": "https://localhost:8080/",
     "height": 500
    },
    "id": "aZWJd8G6aSA7",
    "outputId": "8fa40953-190f-43ef-ae48-e32dea604e43"
   },
   "outputs": [],
   "source": [
    " layer = pdk.Layer(\n",
    "    'HexagonLayer',\n",
    "    df[:1500],\n",
    "    get_position=['LON', 'LAT'],\n",
    "    radius=500, #bin radius\n",
    "    auto_highlight=True,\n",
    "    elevation_scale=50, #scale factor for bins (the greater - the higher)\n",
    "    elevation_range=[0, 3000],\n",
    "    pickable=True,\n",
    "    extruded=True,#cell elevation\n",
    "    )\n",
    "\n",
    "view_state = pdk.ViewState(\n",
    "    longitude=-118.3,\n",
    "    latitude=34.4,\n",
    "    zoom=8,\n",
    "    min_zoom=6,\n",
    "    max_zoom=15,\n",
    "    bearing=-20,#left/right angle\n",
    "    pitch=20, #up/down angle\n",
    "    )\n",
    "\n",
    "r = pdk.Deck(layers=[layer],\n",
    "             initial_view_state=view_state,\n",
    "             map_style=pdk.map_styles.LIGHT, # ‘light’, ‘dark’, ‘road’, ‘satellite’, ‘dark_no_labels’, and ‘light_no_labels\n",
    "             )\n",
    "r#.to_html('hex.html')"
   ]
  },
  {
   "cell_type": "markdown",
   "metadata": {
    "id": "xwrkmK-taenz"
   },
   "source": [
    "# Custom titles\n",
    "https://deckgl.readthedocs.io/en/latest/tooltip.html"
   ]
  },
  {
   "cell_type": "code",
   "execution_count": null,
   "metadata": {
    "colab": {
     "base_uri": "https://localhost:8080/",
     "height": 500
    },
    "id": "alrxmmyhaf_M",
    "outputId": "6012ca38-9f80-4d1b-bdd1-8afd8b58426e"
   },
   "outputs": [],
   "source": [
    "\n",
    " layer = pdk.Layer(\n",
    "    'HexagonLayer',\n",
    "    df[:1500],\n",
    "    get_position=['LON', 'LAT'],\n",
    "    radius=500, #bin radius\n",
    "    auto_highlight=True,\n",
    "    elevation_scale=50, #scale factor for bins (the greater - the higher)\n",
    "    elevation_range=[0, 3000],\n",
    "    pickable=True,\n",
    "    extruded=True,#cell elevation\n",
    "    )\n",
    "\n",
    "view_state = pdk.ViewState(\n",
    "    longitude=-118.3,\n",
    "    latitude=34.4,\n",
    "    zoom=8,\n",
    "    min_zoom=6,\n",
    "    max_zoom=15,\n",
    "    bearing=-20,#left/right angle\n",
    "    pitch=20, #up/down angle\n",
    "    )\n",
    "\n",
    "r = pdk.Deck(layers=[layer],\n",
    "             initial_view_state=view_state,\n",
    "             map_style=pdk.map_styles.DARK, # ‘light’, ‘dark’, ‘road’, ‘satellite’, ‘dark_no_labels’, and ‘light_no_labels\n",
    "             tooltip = {\n",
    "                  \"html\": \"<b>Number of crimes:</b> {elevationValue}\",\n",
    "                  \"style\": {\n",
    "                        \"backgroundColor\": \"yellow\",\n",
    "                        \"color\": \"black\"\n",
    "                  }\n",
    "                },\n",
    "             )\n",
    "r#.to_html('hex.html')"
   ]
  },
  {
   "cell_type": "markdown",
   "metadata": {
    "id": "b8Tuo6JqaxU0"
   },
   "source": [
    "# Interactive angle\n",
    "https://deckgl.readthedocs.io/en/latest/event_handling.html"
   ]
  },
  {
   "cell_type": "code",
   "execution_count": null,
   "metadata": {
    "colab": {
     "base_uri": "https://localhost:8080/",
     "height": 17
    },
    "id": "HAKZDeiia0VM",
    "outputId": "88ef9365-42d3-457a-b86e-457d7d7a9b64"
   },
   "outputs": [],
   "source": [
    "from ipywidgets import HTML\n",
    "\n",
    "text = HTML(value='Move the viewpoint')\n",
    "\n",
    "layer = pdk.Layer(\n",
    "    'HexagonLayer',\n",
    "    df,\n",
    "    get_position=['LON', 'LAT'],\n",
    "    radius=500, #bin radius\n",
    "    auto_highlight=True,\n",
    "    elevation_scale=50, #scale factor for bins (the greater - the higher)\n",
    "    elevation_range=[0, 3000],\n",
    "    pickable=True,\n",
    "    extruded=True,#cell elevation\n",
    "    )\n",
    "\n",
    "view_state = pdk.ViewState(\n",
    "    longitude=-118.3,\n",
    "    latitude=34.4,\n",
    "    zoom=8,\n",
    "    min_zoom=6,\n",
    "    max_zoom=15,\n",
    "    bearing=-20,#left/right angle\n",
    "    pitch=20, #up/down angle\n",
    "    )\n",
    "\n",
    "r = pdk.Deck(layers=[layer],\n",
    "             initial_view_state=view_state,\n",
    "             map_style=pdk.map_styles.DARK)\n",
    "\n",
    "def filter_by_bbox(row, west_lng, east_lng, north_lat, south_lat):\n",
    "    return west_lng < row['lng'] < east_lng and south_lat < row['lat'] < north_lat\n",
    "\n",
    "def filter_by_viewport(widget_instance, payload):\n",
    "    west_lng, north_lat = payload['data']['nw']\n",
    "    east_lng, south_lat = payload['data']['se']\n",
    "    filtered_df = df[df.apply(lambda row: filter_by_bbox(row, west_lng, east_lng, north_lat, south_lat), axis=1)]\n",
    "\n",
    "\n",
    "r.deck_widget.on_click(filter_by_viewport)\n",
    "r.to_html('angle.html')"
   ]
  },
  {
   "cell_type": "code",
   "execution_count": null,
   "metadata": {},
   "outputs": [],
   "source": []
  }
 ],
 "metadata": {
  "colab": {
   "machine_shape": "hm",
   "provenance": []
  },
  "kernelspec": {
   "display_name": "Python 3 (ipykernel)",
   "language": "python",
   "name": "python3"
  },
  "language_info": {
   "codemirror_mode": {
    "name": "ipython",
    "version": 3
   },
   "file_extension": ".py",
   "mimetype": "text/x-python",
   "name": "python",
   "nbconvert_exporter": "python",
   "pygments_lexer": "ipython3",
   "version": "3.11.0"
  }
 },
 "nbformat": 4,
 "nbformat_minor": 4
}
